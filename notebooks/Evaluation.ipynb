{
  "nbformat": 4,
  "nbformat_minor": 0,
  "metadata": {
    "colab": {
      "provenance": []
    },
    "kernelspec": {
      "name": "python3",
      "display_name": "Python 3"
    },
    "language_info": {
      "name": "python"
    }
  },
  "cells": [
    {
      "cell_type": "code",
      "execution_count": 3,
      "metadata": {
        "colab": {
          "base_uri": "https://localhost:8080/"
        },
        "id": "oGgfqA5sYyEw",
        "outputId": "da196f8c-f5f9-4544-eca1-175fb62872d0"
      },
      "outputs": [
        {
          "output_type": "stream",
          "name": "stdout",
          "text": [
            "Model Evaluation Metrics:\n",
            "R² Score      : 0.8876\n",
            "MAE           : 0.1248\n",
            "RMSE          : 0.0281\n"
          ]
        }
      ],
      "source": [
        "import pandas as pd\n",
        "import joblib\n",
        "from sklearn.metrics import r2_score, mean_absolute_error, mean_squared_error\n",
        "import numpy as np\n",
        "\n",
        "# Load the model pipeline (including transformers and regressor)\n",
        "model = joblib.load(\"/content/model.joblib\")\n",
        "\n",
        "# Load the dataset\n",
        "df = pd.read_csv(\"/content/Test_Dataset.csv\")\n",
        "\n",
        "# Drop rows with missing target (if any)\n",
        "df = df.dropna(subset=[\"SGPA\"])\n",
        "\n",
        "# Separate features and target\n",
        "X = df.drop(columns=[\"SGPA\"])\n",
        "y = df[\"SGPA\"]\n",
        "\n",
        "# Predict using the loaded model\n",
        "y_pred = model.predict(X)\n",
        "\n",
        "# Evaluation Metrics\n",
        "r2 = r2_score(y, y_pred)\n",
        "mae = mean_absolute_error(y, y_pred)\n",
        "rmse = mean_squared_error(y, y_pred)\n",
        "\n",
        "# Print Metrics\n",
        "print(\"Model Evaluation Metrics:\")\n",
        "print(f\"R² Score      : {r2:.4f}\")\n",
        "print(f\"MAE           : {mae:.4f}\")\n",
        "print(f\"RMSE          : {rmse:.4f}\")\n"
      ]
    }
  ]
}